{
 "cells": [
  {
   "cell_type": "markdown",
   "id": "9da8bfed",
   "metadata": {},
   "source": [
    "# Fibonacci series between 0 to 50\n",
    "\n"
   ]
  },
  {
   "cell_type": "code",
   "execution_count": 2,
   "id": "057987cd",
   "metadata": {},
   "outputs": [
    {
     "name": "stdout",
     "output_type": "stream",
     "text": [
      "the fibonacci sequence of 50  is:\n",
      "1\n",
      "1\n",
      "2\n",
      "3\n",
      "5\n",
      "8\n",
      "13\n",
      "21\n",
      "34\n"
     ]
    }
   ],
   "source": [
    "n=50\n",
    "n1=0\n",
    "n2=1\n",
    "print(\"the fibonacci sequence of\",n,\" is:\")\n",
    "while n2<n:\n",
    "    print(n2)\n",
    "    nth=n1+n2\n",
    "    n1=n2\n",
    "    n2=nth"
   ]
  },
  {
   "cell_type": "markdown",
   "id": "accb18e2",
   "metadata": {},
   "source": [
    "# program that accepts a word from the user and reverse it"
   ]
  },
  {
   "cell_type": "code",
   "execution_count": 5,
   "id": "4ccf034c",
   "metadata": {},
   "outputs": [
    {
     "name": "stdout",
     "output_type": "stream",
     "text": [
      "pavankumar\n",
      "ramuknavap\n"
     ]
    }
   ],
   "source": [
    "x=str(input())\n",
    "print(x[::-1])\n"
   ]
  },
  {
   "cell_type": "markdown",
   "id": "b27eba26",
   "metadata": {},
   "source": [
    "# program to count the number of even and odd numbers from a series of numbers."
   ]
  },
  {
   "cell_type": "code",
   "execution_count": 6,
   "id": "334acf4e",
   "metadata": {},
   "outputs": [
    {
     "name": "stdout",
     "output_type": "stream",
     "text": [
      "the count of even numbers in the given series [1, 2, 3, 4, 5, 6, 7, 8, 9] is 4\n",
      "the count of odd numbers in the given series [1, 2, 3, 4, 5, 6, 7, 8, 9] is 5\n"
     ]
    }
   ],
   "source": [
    "L=[1,2,3,4,5,6,7,8,9]\n",
    "evencount=0\n",
    "oddcount=0\n",
    "for i in L:\n",
    "    if i%2==0:\n",
    "        evencount+=1\n",
    "    else:\n",
    "        oddcount+=1\n",
    "print(\"the count of even numbers in the given series\",L,\"is\",evencount)\n",
    "print(\"the count of odd numbers in the given series\",L,\"is\",oddcount)"
   ]
  },
  {
   "cell_type": "code",
   "execution_count": null,
   "id": "db23bdb9",
   "metadata": {},
   "outputs": [],
   "source": []
  }
 ],
 "metadata": {
  "kernelspec": {
   "display_name": "Python 3",
   "language": "python",
   "name": "python3"
  },
  "language_info": {
   "codemirror_mode": {
    "name": "ipython",
    "version": 3
   },
   "file_extension": ".py",
   "mimetype": "text/x-python",
   "name": "python",
   "nbconvert_exporter": "python",
   "pygments_lexer": "ipython3",
   "version": "3.8.8"
  }
 },
 "nbformat": 4,
 "nbformat_minor": 5
}
