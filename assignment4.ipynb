{
 "cells": [
  {
   "cell_type": "code",
   "execution_count": 3,
   "id": "0ede89a5",
   "metadata": {},
   "outputs": [
    {
     "name": "stdout",
     "output_type": "stream",
     "text": [
      "enter numbers: 20\n",
      "45\n"
     ]
    }
   ],
   "source": [
    "# Q1. Write a Python program to create a lambda function that adds 25 to a given number passed in as an argument.\n",
    "\n",
    "# Option 1 for user input\n",
    "\n",
    "lamb_function = lambda a: a + 25\n",
    "result = lamb_function(*map(int,input(\"enter numbers: \").split()))\n",
    "print(result)\n"
   ]
  },
  {
   "cell_type": "code",
   "execution_count": 4,
   "id": "3ce2a2a3",
   "metadata": {},
   "outputs": [
    {
     "data": {
      "text/plain": [
       "[125, 225, 325]"
      ]
     },
     "execution_count": 4,
     "metadata": {},
     "output_type": "execute_result"
    }
   ],
   "source": [
    "#Option 2 with list\n",
    "\n",
    "l = [100,200,300]\n",
    "list(map(lambda addition: addition + 25, l))"
   ]
  },
  {
   "cell_type": "code",
   "execution_count": 5,
   "id": "8bd87b7b",
   "metadata": {},
   "outputs": [
    {
     "name": "stdout",
     "output_type": "stream",
     "text": [
      "Triple of the given number is:   [3, 6, 9, 12, 15, 18, 21]\n"
     ]
    }
   ],
   "source": [
    "# Q2. Write a Python program to triple all numbers of a given list of integers. Use Python map.\n",
    "\n",
    "# Option 1 \n",
    "\n",
    "list1= [1, 2, 3, 4, 5, 6, 7]\n",
    "result= list(map(lambda l:l*3,list1))\n",
    "print('Triple of the given number is:  ', result)"
   ]
  },
  {
   "cell_type": "code",
   "execution_count": 6,
   "id": "b85dad82",
   "metadata": {},
   "outputs": [
    {
     "name": "stdout",
     "output_type": "stream",
     "text": [
      "Triple of the given number is:   [3, 6, 9, 12, 15, 18, 21]\n"
     ]
    }
   ],
   "source": [
    "# Option 2\n",
    "\n",
    "list1= [1, 2, 3, 4, 5, 6, 7]\n",
    "\n",
    "def triplate(i):\n",
    "    return 3*i\n",
    "\n",
    "result = list(map(triplate, list1))\n",
    "print('Triple of the given number is:  ', result)"
   ]
  },
  {
   "cell_type": "code",
   "execution_count": 7,
   "id": "a88905aa",
   "metadata": {},
   "outputs": [
    {
     "name": "stdout",
     "output_type": "stream",
     "text": [
      "Square the given number is:   [16, 25, 4, 81]\n"
     ]
    }
   ],
   "source": [
    "# Q3. Write a Python program to square the elements of a list using map() function.\n",
    "\n",
    "list1 = [4, 5, 2, 9]\n",
    "\n",
    "result= list(map(lambda l: l**2, list1))\n",
    "\n",
    "print('Square the given number is:  ', result)"
   ]
  },
  {
   "cell_type": "code",
   "execution_count": null,
   "id": "0ce91ad6",
   "metadata": {},
   "outputs": [],
   "source": []
  }
 ],
 "metadata": {
  "kernelspec": {
   "display_name": "Python 3 (ipykernel)",
   "language": "python",
   "name": "python3"
  },
  "language_info": {
   "codemirror_mode": {
    "name": "ipython",
    "version": 3
   },
   "file_extension": ".py",
   "mimetype": "text/x-python",
   "name": "python",
   "nbconvert_exporter": "python",
   "pygments_lexer": "ipython3",
   "version": "3.9.6"
  }
 },
 "nbformat": 4,
 "nbformat_minor": 5
}
