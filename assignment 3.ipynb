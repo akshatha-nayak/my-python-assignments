{
 "cells": [
  {
   "cell_type": "markdown",
   "id": "d9924852",
   "metadata": {},
   "source": [
    "# write a python function to sum all the numbers in list"
   ]
  },
  {
   "cell_type": "code",
   "execution_count": 1,
   "id": "acb353bf",
   "metadata": {},
   "outputs": [
    {
     "name": "stdout",
     "output_type": "stream",
     "text": [
      "20\n"
     ]
    }
   ],
   "source": [
    "def sum(all_num):\n",
    "    total = 0\n",
    "    for p in all_num:\n",
    "        total += p\n",
    "    return total\n",
    "\n",
    "print(sum((8,2,3,0,7)))"
   ]
  },
  {
   "cell_type": "markdown",
   "id": "7527e58c",
   "metadata": {},
   "source": [
    "# write a python programm to reverse the string"
   ]
  },
  {
   "cell_type": "code",
   "execution_count": 2,
   "id": "8f7d72b8",
   "metadata": {},
   "outputs": [
    {
     "name": "stdout",
     "output_type": "stream",
     "text": [
      "dcba4321\n"
     ]
    }
   ],
   "source": [
    "def  reverse_string(string):\n",
    "    revst = ''\n",
    "    index = len(string)\n",
    "    while index > 0:\n",
    "        revst += string[ index - 1 ]\n",
    "        index = index - 1\n",
    "    return revst\n",
    "print(reverse_string('1234abcd'))"
   ]
  },
  {
   "cell_type": "markdown",
   "id": "c943d2dc",
   "metadata": {},
   "source": [
    "# Write a Python function that accepts a string and calculate the number of upper case letters and lower case letters."
   ]
  },
  {
   "cell_type": "code",
   "execution_count": 3,
   "id": "390c0867",
   "metadata": {},
   "outputs": [
    {
     "name": "stdout",
     "output_type": "stream",
     "text": [
      "total Upper case  : 3\n",
      "total Lower case  : 12\n"
     ]
    }
   ],
   "source": [
    "def string(a):\n",
    "    p={\"uppercase\":0, \"lowercase\":0}\n",
    "    for c in a:\n",
    "        if c.isupper():\n",
    "            p[\"uppercase\"]+=1\n",
    "        elif c.islower():\n",
    "            p[\"lowercase\"]+=1\n",
    "        else:\n",
    "               pass\n",
    "    \n",
    "    print (\"total Upper case  :\", p[\"uppercase\"])\n",
    "    print (\"total Lower case  :\", p[\"lowercase\"])\n",
    "\n",
    "string('The quick Brow Fox')"
   ]
  },
  {
   "cell_type": "code",
   "execution_count": null,
   "id": "150e082f",
   "metadata": {},
   "outputs": [],
   "source": []
  }
 ],
 "metadata": {
  "kernelspec": {
   "display_name": "Python 3 (ipykernel)",
   "language": "python",
   "name": "python3"
  },
  "language_info": {
   "codemirror_mode": {
    "name": "ipython",
    "version": 3
   },
   "file_extension": ".py",
   "mimetype": "text/x-python",
   "name": "python",
   "nbconvert_exporter": "python",
   "pygments_lexer": "ipython3",
   "version": "3.9.6"
  }
 },
 "nbformat": 4,
 "nbformat_minor": 5
}
